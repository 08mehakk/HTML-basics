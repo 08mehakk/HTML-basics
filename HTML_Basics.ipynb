{
  "nbformat": 4,
  "nbformat_minor": 0,
  "metadata": {
    "colab": {
      "provenance": []
    },
    "kernelspec": {
      "name": "python3",
      "display_name": "Python 3"
    },
    "language_info": {
      "name": "python"
    }
  },
  "cells": [
    {
      "cell_type": "markdown",
      "source": [
        "\n",
        "Question1. Explain the basic structure of an HTML page. Why is it important to follow this structure?\n",
        "\n",
        "Answer. The basic struccture of an HTML page include:-\n",
        "\n",
        "1.&lt;!DOCTYPE html&gt;: We start the file with <!DOCTYPE html>.It tells the browser what type of document to expect; in this case is an HTML document.\n",
        "\n",
        "2.&lt; html&gt;: The root element of the HTML document.\n",
        "\n",
        "3.&lt; head&gt;: Contains metadata about the document, such as title, charset, and links to external stylesheets or scripts.\n",
        "\n",
        "4.&lt;title&gt;: Specifies the title of the page, which appears in the browser's title bar and search engine results.\n",
        "\n",
        "5.&lt;body&gt;: Contains the content of the HTML document, such as text, images, and other elements.\n",
        "\n",
        "# -> Structure of HTML Document.\n",
        "\n",
        "Let’s create FIrst HTML Doc- ”Hello World”\n",
        "\n",
        "Step1: Create a new file with the name “index.html”.\n",
        "\n",
        "Step 2: Paste the following code into the file and save.\n",
        "\n",
        "\n",
        "\n"
      ],
      "metadata": {
        "id": "R9aNfdbiSUo4"
      }
    },
    {
      "cell_type": "code",
      "source": [
        "<!DOCTYPE html>\n",
        "<html lang=\"en\">\n",
        "<head>\n",
        "<title> Hello, World!</title>\n",
        "</head>\n",
        "\n",
        "<body>\n",
        "<h1>Hello, World!</h1>\n",
        "<p>This is my first page.</p>\n",
        "</body>\n",
        "</html>"
      ],
      "metadata": {
        "id": "JxLVzs_mdxKZ"
      },
      "execution_count": null,
      "outputs": []
    },
    {
      "cell_type": "markdown",
      "source": [
        "Step3: Open the file using any Browser and we are done with our first HTML project.\n",
        "\n",
        "# Importance of Following this Structure:\n",
        "\n",
        "Following the basic structure of an HTML page is important for several reasons:\n",
        "\n",
        "1. Browser Compatibility: A well-structured HTML document ensures that browsers can correctly parse and render the page.\n",
        "2. Search Engine Optimization (SEO): Search engines like Google can better understand the content and structure of a page that follows standard HTML structure.\n",
        "3. Accessibility: A properly structured HTML document helps screen readers and other assistive technologies to navigate and interpret the content for users with disabilities.\n",
        "4. Maintainability and Readability: Following a standard structure makes it easier for developers to understand, maintain, and update the code.\n",
        "5. Error Reduction: A well-structured HTML document reduces the likelihood of errors and inconsistencies that can cause layout issues or functionality problems.\n",
        "\n",
        "---\n",
        "\n"
      ],
      "metadata": {
        "id": "-enzdOfaekxO"
      }
    },
    {
      "cell_type": "markdown",
      "source": [
        "Question2. You’re building a small personal profile page. Which HTML tags will you use to highlight your name as a heading, describe yourself in a paragraph, and emphasize a key skill?\n",
        "\n",
        "Answer. We use the following tags for name as a heading, paragraph and emphasize a key skill:-\n",
        "\n",
        "1. Your Name as a Heading → Use &lt;h1&gt;\n",
        "\n",
        "2. Description in a Paragraph → Use &lt;p&gt;\n",
        "\n",
        "3. Emphasize a Key Skill → Use &lt;em&gt; or &lt;strong&gt;"
      ],
      "metadata": {
        "id": "RnABFjLlfIi2"
      }
    },
    {
      "cell_type": "code",
      "source": [
        "<!DOCTYPE html>\n",
        "<html>\n",
        "<head>\n",
        "  <title>My Profile</title>\n",
        "</head>\n",
        "<body>\n",
        "\n",
        "<h1>Mehak Sharma</h1>\n",
        "\n",
        "<p>Hello! I'm a passionate web developer who loves creating clean websites.</p>\n",
        "<p>One of my key skills is <strong>JavaScript</strong>,\n",
        "which I use to build interactive web pages.</p>\n",
        "\n",
        "</body>\n",
        "</html>\n",
        "\n",
        "\n"
      ],
      "metadata": {
        "id": "KeACgcA7gK5N"
      },
      "execution_count": null,
      "outputs": []
    },
    {
      "cell_type": "markdown",
      "source": [
        "Question3. Look at the code below. Can you find and fix the mistake?\n",
        "Look at the code below. Can you find and fix the mistake?\n",
        "<!-- This is an HTML comment\n",
        "<h1>Welcome to my website</h1>\n",
        "\n",
        "<p><strong>Answer:</strong> The comment was missing the closing <code>--&gt;</code>. Here's the fixed code:</p>\n",
        "\n",
        "<pre>\n",
        "&lt;!-- This is an HTML comment --&gt;\n",
        "&lt;h1&gt;Welcome to my website&lt;/h1&gt;\n",
        "</pre>"
      ],
      "metadata": {
        "id": "a7snidqlgnit"
      }
    },
    {
      "cell_type": "markdown",
      "source": [
        "Question4. You’re creating a form that asks the user to enter their name, select their country from a list, and click a button to submit. Write the HTML code for this.\n",
        "\n",
        "Answer.\n",
        "\n",
        "```\n",
        "<!DOCTYPE html>\n",
        "<html>\n",
        "<head>\n",
        "  <title>User Form</title>\n",
        "</head>\n",
        "<body>\n",
        "\n",
        "  <h2>User Information Form</h2>\n",
        "\n",
        "  <form action=\"/submit\" method=\"post\">\n",
        "    \n",
        "    <!-- Name Input -->\n",
        "    <label for=\"name\">Name:</label>\n",
        "    <input type=\"text\" id=\"name\" name=\"name\" required><br><br>\n",
        "    \n",
        "    <!-- Country Dropdown -->\n",
        "    <label for=\"country\">Country:</label>\n",
        "    <select id=\"country\" name=\"country\" required>\n",
        "      <option value=\"\">--Select Country--</option>\n",
        "      <option value=\"india\">India</option>\n",
        "      <option value=\"usa\">United States</option>\n",
        "      <option value=\"uk\">United Kingdom</option>\n",
        "      <option value=\"australia\">Australia</option>\n",
        "      <option value=\"canada\">Canada</option>\n",
        "    </select><br><br>\n",
        "    \n",
        "    <!-- Submit Button -->\n",
        "    <button type=\"submit\">Submit</button>\n",
        "\n",
        "  </form>\n",
        "\n",
        "</body>\n",
        "</html>\n",
        "\n",
        "```\n",
        "\n",
        "\n",
        "---\n",
        "\n",
        "\n",
        "\n"
      ],
      "metadata": {
        "id": "bqcRj5iGiVv4"
      }
    },
    {
      "cell_type": "markdown",
      "source": [
        "Question5. Write short HTML code to show your favorite fruits in a bulleted list and your top 3 programming languages in a numbered list.\n",
        "\n",
        "Answer.\n",
        "\n",
        "```\n",
        "<!DOCTYPE html>\n",
        "<html>\n",
        "<head>\n",
        "  <title>My Favorites</title>\n",
        "</head>\n",
        "<body>\n",
        "\n",
        "  <h2>My Favorite Fruits</h2>\n",
        "  <ul>\n",
        "    <li>Mango</li>\n",
        "    <li>Guava</li>\n",
        "    <li>Orange</li>\n",
        "  </ul>\n",
        "\n",
        "  <h2>Top 3 Programming Languages</h2>\n",
        "  <ol>\n",
        "    <li>Javascript</li>\n",
        "    <li>Python</li>\n",
        "    <li>SQL</li>\n",
        "  </ol>\n",
        "\n",
        "</body>\n",
        "</html>\n",
        "\n",
        "```\n",
        "\n",
        "\n"
      ],
      "metadata": {
        "id": "YW9ZDT_Vi-B9"
      }
    },
    {
      "cell_type": "markdown",
      "source": [
        "Question6. : Ravi wants to leave a note in his HTML file so that only other developers can see it, not the users on the website. How should he do this? Why are such notes useful?\n",
        "\n",
        "Answer. Ravi should use HTML comments to leave notes in the code.\n",
        "# Synatx of an HTML document.\n",
        "\n",
        "\n",
        "```\n",
        "<!-- This is a comment -->\n",
        "\n",
        "```\n",
        "\n",
        "\n",
        "\n",
        "\n",
        "---\n",
        "\n"
      ],
      "metadata": {
        "id": "Z1tV1iP7jrOj"
      }
    },
    {
      "cell_type": "markdown",
      "source": [
        "Question7.  Here’s a form snippet. Can you spot the error and rewrite the correct version?\n",
        "```\n",
        "<form>\n",
        " <input name=\"email\">\n",
        " <select>\n",
        " <option>India</option>\n",
        " </select>\n",
        " <button>Send</buton>\n",
        "</form>\n",
        "```\n",
        "Answer.\n",
        "\n",
        "```\n",
        "<form action=\"/submit\" method=\"post\">\n",
        "  <input type=\"email\" name=\"email\" placeholder=\"Enter your email\" required>\n",
        "  \n",
        "  <select name=\"country\">\n",
        "    <option value=\"india\">India</option>\n",
        "  </select>\n",
        "  \n",
        "  <button type=\"submit\">Send</button>\n",
        "</form>\n",
        "\n",
        "\n",
        "---\n",
        "\n",
        "\n",
        "```\n",
        "\n"
      ],
      "metadata": {
        "id": "LHGh5e1hkTXu"
      }
    }
  ]
}